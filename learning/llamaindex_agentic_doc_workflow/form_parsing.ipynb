{
 "cells": [
  {
   "cell_type": "markdown",
   "metadata": {},
   "source": [
    "# Form Parsing"
   ]
  },
  {
   "cell_type": "markdown",
   "metadata": {},
   "source": [
    "![image](images/form_parsing.png)"
   ]
  },
  {
   "cell_type": "code",
   "execution_count": 2,
   "metadata": {},
   "outputs": [],
   "source": [
    "import os, json\n",
    "from llama_parse import LlamaParse\n",
    "from llama_index.llms.ollama import Ollama\n",
    "from llama_index.embeddings.ollama import OllamaEmbedding\n",
    "from llama_index.core import (\n",
    "    VectorStoreIndex\n",
    "    , StorageContext\n",
    "    , load_index_from_storage\n",
    ")\n",
    "from llama_index.core.workflow import (\n",
    "    StartEvent\n",
    "    , StopEvent\n",
    "    , Workflow\n",
    "    , step\n",
    "    , Event\n",
    "    , Context\n",
    ")\n",
    "from helper import get_llama_cloud_api_key, get_llama_cloud_base_url, extract_html_content\n",
    "from IPython.display import display, HTML\n",
    "from llama_index.utils.workflow import draw_all_possible_flows\n"
   ]
  },
  {
   "cell_type": "code",
   "execution_count": 3,
   "metadata": {},
   "outputs": [],
   "source": [
    "import nest_asyncio\n",
    "nest_asyncio.apply()"
   ]
  },
  {
   "cell_type": "code",
   "execution_count": 4,
   "metadata": {},
   "outputs": [],
   "source": [
    "llama_cloud_api_key = get_llama_cloud_api_key()\n",
    "llama_cloud_base_url = get_llama_cloud_base_url()"
   ]
  },
  {
   "cell_type": "code",
   "execution_count": 19,
   "metadata": {},
   "outputs": [
    {
     "name": "stdout",
     "output_type": "stream",
     "text": [
      "WARNING: content_guideline_instruction is deprecated and may be remove in a future release. Use system_prompt, system_prompt_append or user_prompt instead.\n",
      "WARNING: formatting_instruction is deprecated and may be remove in a future release. Use system_prompt, system_prompt_append or user_prompt instead.\n",
      "Started parsing the file under job_id 158f0f4a-a1ec-40d6-83da-750b5a2ee94f\n"
     ]
    }
   ],
   "source": [
    "parser = LlamaParse(\n",
    "    api_key=llama_cloud_api_key\n",
    "    , base_url=llama_cloud_base_url\n",
    "    , result_type=\"markdown\"\n",
    "    , content_guideline_instruction=\"This is a job application form. Create a list of all the fields that need to be filled in.\"\n",
    "    , formatting_instruction=\"Return a bulleted list of the fields ONLY.\"\n",
    ")\n",
    "result = parser.load_data(\"data/fake_application_form.pdf\")[0]"
   ]
  },
  {
   "cell_type": "code",
   "execution_count": 20,
   "metadata": {},
   "outputs": [
    {
     "name": "stdout",
     "output_type": "stream",
     "text": [
      "Doc ID: 60bda80e-cc6e-4b32-894a-c67b44a8ceb7\n",
      "Text: # Big Tech Co. Job Application Form  # Position: Senior Web\n",
      "Developer C3  Thanks for applying to Big Tech Co.! We are humbled that\n",
      "you would consider working here.  Please fill in the following form to\n",
      "help us get started.  |First Name|Last Name| |---|---| |Email|Phone|\n",
      "|Linkedin|Project Portfolio| |Degree|Graduation Date| |Current Job\n",
      "title|Cur...\n"
     ]
    }
   ],
   "source": [
    "print(result)"
   ]
  },
  {
   "cell_type": "code",
   "execution_count": 21,
   "metadata": {},
   "outputs": [
    {
     "name": "stdout",
     "output_type": "stream",
     "text": [
      "# Big Tech Co. Job Application Form\n",
      "\n",
      "# Position: Senior Web Developer C3\n",
      "\n",
      "Thanks for applying to Big Tech Co.! We are humbled that you would consider working here.\n",
      "\n",
      "Please fill in the following form to help us get started.\n",
      "\n",
      "|First Name|Last Name|\n",
      "|---|---|\n",
      "|Email|Phone|\n",
      "|Linkedin|Project Portfolio|\n",
      "|Degree|Graduation Date|\n",
      "|Current Job title|Current Employer|\n",
      "|Technical Skills|Technical Skills|\n",
      "|Describe why you’re a good fit for this position|Describe why you’re a good fit for this position|\n",
      "|Do you have 5 years of experience in React?|Do you have 5 years of experience in React?|\n"
     ]
    }
   ],
   "source": [
    "print(result.text)"
   ]
  },
  {
   "cell_type": "code",
   "execution_count": 22,
   "metadata": {},
   "outputs": [],
   "source": [
    "llm = Ollama(model=\"llama3.2:1b\")"
   ]
  },
  {
   "cell_type": "code",
   "execution_count": 23,
   "metadata": {},
   "outputs": [],
   "source": [
    "raw_json = llm.complete(\n",
    "    f\"\"\"\n",
    "    This is a parsed form.\n",
    "    Convert it into a JSON object containing only the list \n",
    "    of fields to be filled in, in the form {{ fields: [...] }}. \n",
    "    <form>{result.text}</form>. \n",
    "    Return JSON ONLY, no markdown.\"\"\"\n",
    ")"
   ]
  },
  {
   "cell_type": "code",
   "execution_count": 24,
   "metadata": {},
   "outputs": [
    {
     "data": {
      "text/plain": [
       "'{ \"fields\": [\"First Name\", \"Last Name\", \"Email\", \"Phone\", \"Linkedin\", \"Degree\", \"Graduation Date\", \"Current Job title\", \"Technical Skills\", \"Describe why you’re a good fit for this position\", \"Do you have 5 years of experience in React?\" ] }'"
      ]
     },
     "execution_count": 24,
     "metadata": {},
     "output_type": "execute_result"
    }
   ],
   "source": [
    "raw_json.text"
   ]
  },
  {
   "cell_type": "code",
   "execution_count": 25,
   "metadata": {},
   "outputs": [
    {
     "data": {
      "text/plain": [
       "['First Name',\n",
       " 'Last Name',\n",
       " 'Email',\n",
       " 'Phone',\n",
       " 'Linkedin',\n",
       " 'Degree',\n",
       " 'Graduation Date',\n",
       " 'Current Job title',\n",
       " 'Technical Skills',\n",
       " 'Describe why you’re a good fit for this position',\n",
       " 'Do you have 5 years of experience in React?']"
      ]
     },
     "execution_count": 25,
     "metadata": {},
     "output_type": "execute_result"
    }
   ],
   "source": [
    "fields = json.loads(raw_json.text)[\"fields\"]\n",
    "fields"
   ]
  },
  {
   "cell_type": "code",
   "execution_count": 5,
   "metadata": {},
   "outputs": [],
   "source": [
    "class ParseFormEvent(Event):\n",
    "    application_form: str\n",
    "\n",
    "class QueryEvent(Event):\n",
    "    query: str\n",
    "    field: str \n",
    "\n",
    "class ResponseEvent(Event):\n",
    "    response: str"
   ]
  },
  {
   "cell_type": "code",
   "execution_count": 6,
   "metadata": {},
   "outputs": [],
   "source": [
    "class RAGWorkflow(Workflow):\n",
    "    storage_dir = \"./storage\"\n",
    "    llm: Ollama\n",
    "    query_engine: VectorStoreIndex\n",
    "    embed_model: OllamaEmbedding\n",
    "\n",
    "    @step\n",
    "    async def set_up(self, ctx: Context, ev: StartEvent) -> ParseFormEvent:\n",
    "        if not ev.resume_file:\n",
    "            raise ValueError(\"Resume file is required\")\n",
    "        \n",
    "        # define LLM\n",
    "        self.llm = Ollama(model=\"llama3.2:3b\", request_timeout=3000.0)\n",
    "        self.embed_model=OllamaEmbedding(model_name=\"nomic-embed-text\")\n",
    "\n",
    "        if os.path.exists(self.storage_dir):\n",
    "            storage_context = StorageContext.from_defaults(persist_dir=self.storage_dir)\n",
    "            index = load_index_from_storage(storage_context, embed_model=self.embed_model)\n",
    "        else:\n",
    "            documents = LlamaParse(\n",
    "                result_type=\"markdown\"\n",
    "                , content_guideline_instruction=\"This is a resume, gather related facts together and format it as bullet points with headers\"\n",
    "            ).load_data(ev.resume_file)\n",
    "\n",
    "            index = VectorStoreIndex.from_documents(\n",
    "                documents=documents\n",
    "                , embed_model=self.embed_model\n",
    "            )\n",
    "            index.storage_context.persist(persist_dir=self.storage_dir)\n",
    "        \n",
    "        self.query_engine = index.as_query_engine(llm=self.llm, similarity_top_k=5)\n",
    "\n",
    "        return ParseFormEvent(application_form=ev.application_form)\n",
    "    \n",
    "    @step\n",
    "    async def parse_form(self, ctx: Context, ev:ParseFormEvent) -> QueryEvent:\n",
    "        parser = LlamaParse(\n",
    "            api_key=llama_cloud_api_key\n",
    "            , base_url=llama_cloud_base_url\n",
    "            , result_type=\"markdown\"\n",
    "            , content_guideline_instruction=\"This is a job application form. Create a list of all the fields that need to be filled in.\"\n",
    "            , formatting_instruction=\"Return a bulleted list of the fields ONLY.\"\n",
    "        )\n",
    "\n",
    "        result = parser.load_data(ev.application_form)[0]\n",
    "        raw_json = self.llm.complete(\n",
    "            f\"\"\"\n",
    "            This is a parsed form.\n",
    "            Convert it into a JSON object containing only the list \n",
    "            of fields to be filled in, in the form {{ fields: [...] }}. \n",
    "            <form>{result.text}</form>.\n",
    "            Return JSON ONLY, no markdown.\"\"\"\n",
    "        )\n",
    "        print(raw_json)\n",
    "        fields = json.loads(raw_json.text)[\"fields\"]\n",
    "        print(f\"fields: {fields}\")\n",
    "\n",
    "        for field in fields:\n",
    "            ctx.send_event(\n",
    "                QueryEvent(\n",
    "                    field=field\n",
    "                    , query=f\"How would you answer this question about the candidate? {field}\"\n",
    "                )\n",
    "            )\n",
    "            print(f\"field: {field}\")\n",
    "        \n",
    "        await ctx.set(\"total_fields\", len(fields))\n",
    "        return\n",
    "\n",
    "    @step\n",
    "    async def ask_question(self, ctx: Context, ev: QueryEvent) -> ResponseEvent:\n",
    "        response = self.query_engine.query(f\"This is a question about the specific resume we have in our database: {ev.query}\")\n",
    "        print(f\"ask question: {ev.query}; answer: {response.response}\")\n",
    "        return ResponseEvent(field=ev.field, response=response.response)\n",
    "    \n",
    "    @step\n",
    "    async def fill_in_application(self, ctx: Context, ev: ResponseEvent) -> StopEvent:\n",
    "        total_fields = await ctx.get(\"total_fields\")\n",
    "\n",
    "        responses = ctx.collect_events(ev, [ResponseEvent] * total_fields)\n",
    "        if responses is None:\n",
    "            return None \n",
    "        \n",
    "        responseListString = \"\\n\".join(\"Field: \" + r.field + \"\\n\" + \"Response: \" + r.response for r in responses)\n",
    "\n",
    "        result = self.llm.complete(\n",
    "            f\"\"\"\n",
    "            You are given a list of fields in an application form and responses to\n",
    "            questions about those fields from a resume. Combine the two into a list of\n",
    "            fields and succinct, factual answers to fill in those fields.\n",
    "\n",
    "            <responses>\n",
    "            {responseListString}\n",
    "            </responses>\n",
    "            \"\"\"\n",
    "        )\n",
    "        return StopEvent(result=result)\n",
    "\n",
    "            "
   ]
  },
  {
   "cell_type": "code",
   "execution_count": 7,
   "metadata": {},
   "outputs": [
    {
     "name": "stdout",
     "output_type": "stream",
     "text": [
      "WARNING: content_guideline_instruction is deprecated and may be remove in a future release. Use system_prompt, system_prompt_append or user_prompt instead.\n",
      "WARNING: formatting_instruction is deprecated and may be remove in a future release. Use system_prompt, system_prompt_append or user_prompt instead.\n",
      "Started parsing the file under job_id 7e063e72-daec-46a6-a493-31a912940d82\n",
      "{\"fields\": [\"First Name\", \"Last Name\", \"Email\", \"Phone\", \"Linkedin\", \"Project Portfolio\", \"Degree\", \"Graduation Date\", \"Current Job title\", \"Technical Skills\", \"Describe why you're a good fit for this position\"]}\n",
      "fields: ['First Name', 'Last Name', 'Email', 'Phone', 'Linkedin', 'Project Portfolio', 'Degree', 'Graduation Date', 'Current Job title', 'Technical Skills', \"Describe why you're a good fit for this position\"]\n",
      "field: First Name\n",
      "field: Last Name\n",
      "field: Email\n",
      "field: Phone\n",
      "field: Linkedin\n",
      "field: Project Portfolio\n",
      "field: Degree\n",
      "field: Graduation Date\n",
      "field: Current Job title\n",
      "field: Technical Skills\n",
      "field: Describe why you're a good fit for this position\n",
      "ask question: How would you answer this question about the candidate? First Name; answer: Based on the candidate's experience, it appears that Sarah has had significant success in mentoring junior developers, with three of them being promoted to mid-level positions. This suggests that she is a skilled and effective mentor who can help guide others in their professional development. Her ability to establish coding standards and review processes also indicates that she values code quality and is willing to invest time in improving it, which benefits not just herself but her team as well.\n",
      "ask question: How would you answer this question about the candidate? Last Name; answer: Chen\n",
      "ask question: How would you answer this question about the candidate? Email; answer: It appears to be an email address.\n",
      "ask question: How would you answer this question about the candidate? Phone; answer: The candidate has experience with various technologies, but I couldn't find any direct mention of their proficiency with traditional phone systems. They do have skills related to web development and cloud architecture, which suggests that they may be more comfortable working with modern digital tools rather than traditional phone-based communication methods.\n",
      "ask question: How would you answer this question about the candidate? Linkedin; answer: They are an experienced Full Stack Web Developer with a strong background in building scalable web applications and microservices. They possess expertise in both front-end and back-end technologies, including React, Node.js, GraphQL, and cloud architecture. With a proven track record of leading technical teams and implementing CI/CD pipelines, they can effectively manage and optimize the development process.\n",
      "\n",
      "Their experience spans various roles, from junior to senior levels, showcasing their adaptability and ability to learn and grow with the company. They have also demonstrated a passion for clean code, accessibility, and mentoring junior developers, which suggests a strong commitment to best practices and collaborative work environments.\n",
      "\n",
      "Additionally, they hold multiple certifications in cloud computing and development, further emphasizing their expertise in these areas.\n",
      "ask question: How would you answer this question about the candidate? Project Portfolio; answer: The candidate has showcased their ability to build and deploy scalable web applications through their personal projects. The EcoTrack project demonstrates expertise in machine learning, as it implements an algorithm for providing personalized sustainability recommendations. This showcases the candidate's understanding of data analysis and application of such insights.\n",
      "\n",
      "The ChatFlow project highlights real-time communication capabilities, with features like end-to-end encryption and message persistence. This indicates that the candidate has experience with WebSocket protocols and their implementation in web applications.\n",
      "\n",
      "Both projects demonstrate a strong focus on technical skills, problem-solving, and deployment capabilities.\n",
      "ask question: How would you answer this question about the candidate? Degree; answer: Bachelor of Science in Computer Science with a minor in User Experience Design.\n",
      "ask question: How would you answer this question about the candidate? Graduation Date; answer: The candidate graduated from University of California, Berkeley in 2017.\n",
      "ask question: How would you answer this question about the candidate? Current Job title; answer: Senior Full Stack Developer.\n",
      "ask question: How would you answer this question about the candidate? Technical Skills; answer: The candidate has a diverse set of technical skills that cover both frontend and backend development. They are proficient in React.js, Node.js, and Express.js for frontend and backend development respectively. \n",
      "\n",
      "For frontend development, they have expertise in React Testing Library, WebPack, and Babel, which suggests a strong understanding of testing and build processes. They also have experience with Vue.js and Next.js, indicating adaptability to different frameworks.\n",
      "\n",
      "In terms of backend development, the candidate is familiar with Node.js and Express.js, as well as Python and Django. This broad range of skills shows that they are comfortable working in multiple environments and can handle various types of projects.\n",
      "\n",
      "Additionally, their experience with GraphQL and REST APIs suggests a good understanding of API design and implementation. They also have knowledge of PostgreSQL and MongoDB, which is beneficial for working with databases.\n",
      "\n",
      "Overall, the candidate's technical skill set seems well-rounded, covering both frontend and backend development, as well as database management and API design.\n",
      "ask question: How would you answer this question about the candidate? Describe why you're a good fit for this position; answer: With expertise spanning over six years, I've developed a strong foundation in crafting scalable web applications and microservices. My passion for clean code, accessibility, and mentoring junior developers drives me to continuously improve my skills and contribute to the success of teams.\n",
      "\n",
      "Throughout my career, I've had the opportunity to work on high-profile projects, including a microservices-based e-commerce platform that serves 100K+ daily users. This experience not only honed my technical skills but also taught me the importance of effective team leadership, collaboration, and problem-solving.\n",
      "\n",
      "I'm well-versed in a range of technologies, from React and Node.js to GraphQL and cloud architecture. My proficiency in Docker, Kubernetes, and AWS enables me to design and deploy scalable applications with ease.\n",
      "\n",
      "What sets me apart is my commitment to delivering high-quality results while fostering a culture of innovation and continuous learning. I believe that clean code, accessibility, and mentorship are essential components of any successful team, and I strive to incorporate these values into every project I work on.\n",
      "\n",
      "As a seasoned full stack developer, I'm confident in my ability to hit the ground running and make a meaningful contribution to your organization. I'm excited about the opportunity to bring my skills and experience to a new challenge and contribute to the success of your team.\n",
      "Here is the combined list of fields and succinct, factual answers:\n",
      "\n",
      "1. Field: First Name\n",
      "Response: Sarah\n",
      "\n",
      "2. Field: Last Name\n",
      "Response: Chen\n",
      "\n",
      "3. Field: Email\n",
      "Response: (Email address not provided)\n",
      "\n",
      "4. Field: Phone\n",
      "Response: Not proficient with traditional phone systems, but has skills related to web development and cloud architecture.\n",
      "\n",
      "5. Field: Linkedin\n",
      "Response: Experienced Full Stack Web Developer with expertise in React, Node.js, GraphQL, and cloud architecture. Proven track record of leading technical teams and implementing CI/CD pipelines.\n",
      "\n",
      "6. Field: Project Portfolio\n",
      "Response: Showcase of ability to build and deploy scalable web applications through personal projects, including machine learning and real-time communication capabilities.\n",
      "\n",
      "7. Field: Degree\n",
      "Response: Bachelor of Science in Computer Science with a minor in User Experience Design\n",
      "\n",
      "8. Field: Graduation Date\n",
      "Response: 2017 (University of California, Berkeley)\n",
      "\n",
      "9. Field: Current Job title\n",
      "Response: Senior Full Stack Developer\n",
      "\n",
      "10. Field: Technical Skills\n",
      "Response: Proficient in React.js, Node.js, Express.js, React Testing Library, WebPack, Babel, Vue.js, Next.js, GraphQL, REST APIs, PostgreSQL, MongoDB, and Docker.\n",
      "\n",
      "11. Field: Describe why you're a good fit for this position\n",
      "Response: With expertise spanning over six years, I've developed a strong foundation in crafting scalable web applications and microservices. My passion for clean code, accessibility, and mentoring junior developers drives me to continuously improve my skills and contribute to the success of teams.\n"
     ]
    }
   ],
   "source": [
    "w = RAGWorkflow(verbose=False, timeout=3000)\n",
    "result = await w.run(\n",
    "    resume_file=\"data/fake_resume.pdf\"\n",
    "    , application_form=\"data/fake_application_form.pdf\"\n",
    ")\n",
    "print(result)"
   ]
  },
  {
   "cell_type": "code",
   "execution_count": null,
   "metadata": {},
   "outputs": [],
   "source": [
    "WORKFLOW_FILE = \"workflows/form_parsing_workflow.html\"\n",
    "draw_all_possible_flows(w, filename=WORKFLOW_FILE)\n",
    "html_content = extract_html_content(WORKFLOW_FILE)\n",
    "display(HTML(html_content), metadata=dict(isolated=True))"
   ]
  }
 ],
 "metadata": {
  "kernelspec": {
   "display_name": "Python 3",
   "language": "python",
   "name": "python3"
  },
  "language_info": {
   "codemirror_mode": {
    "name": "ipython",
    "version": 3
   },
   "file_extension": ".py",
   "mimetype": "text/x-python",
   "name": "python",
   "nbconvert_exporter": "python",
   "pygments_lexer": "ipython3",
   "version": "3.11.9"
  }
 },
 "nbformat": 4,
 "nbformat_minor": 2
}
